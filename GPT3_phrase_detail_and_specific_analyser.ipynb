{
 "cells": [
  {
   "cell_type": "code",
   "execution_count": 1,
   "id": "d61d69dd",
   "metadata": {},
   "outputs": [],
   "source": [
    "from langchain import PromptTemplate\n",
    "from langchain.llms import OpenAI\n",
    "import requests, json, os\n",
    "\n",
    "os.environ[\"YA_IAM_TOKEN\"] = \"\"\n",
    "os.environ[\"YA_FOLDER_ID\"] = \"\"\n",
    "os.environ[\"OPENAI_API_KEY\"] = \"\""
   ]
  },
  {
   "cell_type": "code",
   "execution_count": 2,
   "id": "e08b827d",
   "metadata": {},
   "outputs": [],
   "source": [
    "def yandex_translate(target_language,texts_list):\n",
    "    \n",
    "    body = {\n",
    "    \"targetLanguageCode\": target_language,\n",
    "    \"texts\": texts_list,\n",
    "    \"folderId\": os.environ.get(\"YA_FOLDER_ID\")\n",
    "    }\n",
    "    \n",
    "    headers = {\n",
    "    \"Content-Type\": \"application/json\",\n",
    "    \"Authorization\": \"Bearer {0}\".format(os.environ.get('YA_IAM_TOKEN'))\n",
    "    }\n",
    "    \n",
    "    response = requests.post('https://translate.api.cloud.yandex.net/translate/v2/translate',\n",
    "                             json = body,\n",
    "                             headers = headers)\n",
    "    \n",
    "    response_text = json.loads(response.text)\n",
    "    \n",
    "    return (response_text)"
   ]
  },
  {
   "cell_type": "code",
   "execution_count": 3,
   "id": "f77f58c4",
   "metadata": {},
   "outputs": [],
   "source": [
    "def translate_and_make_prompt(phrase):\n",
    "    template = \"\"\"\n",
    "Based on the phrase, determine its specificity and detail in the range from 0 to 1; add block \"Explanation\" where you give a detailed explanations of why you gave such estimates of detail and specifity\n",
    "\n",
    "For example, the phrase “good cop” will be vague, and the phrase “a policeman who always follows the letter of the law in his work”\n",
    "\n",
    "----\n",
    "\n",
    "Here is an example of the answer you should give to the phrase \"The guys stood on the sidewalk and spun the hula hoop\":\n",
    "\n",
    "Specificity: 0.4\n",
    "Detail: 0.3\n",
    "\n",
    "Explanation:\n",
    "The phrase \"The guys stood on the sidewalk and spun the hula hoop\" is somewhat specific in that it describes a particular activity (\"spinning the hula hoop\") being performed by a specific group (\"the guys\") in a particular location (\"the sidewalk\"). However, the phrase lacks detail in that it does not provide any information about the identity of \"the guys\", how they are spinning the hula hoop, or any other context surrounding the activity. Overall, the phrase is moderately specific but lacking in detail.\n",
    "\n",
    "Here is another example of answer you should give to the phrase \n",
    "\n",
    "----\n",
    "\n",
    "Specificity: 0.7\n",
    "Detail: 0.7\n",
    "\n",
    "Explanation:\n",
    "The phrase provides some specific details such as the location (\"dirty sidewalk near the shawarma tent\"), the action being performed (\"twisted a rainbow-colored hula hoop\"), and the appearance of the people (\"guys in shabby clothes out of size\"). However, it still leaves some room for interpretation and imagination, as it does not specify the exact number of people or the precise location.\n",
    "\n",
    "----\n",
    "\n",
    "Here is another example of answer you should give to the phrase \"Lyuba paints the fence, forgetting about the worries\":\n",
    "\n",
    "Specificity: 0.6\n",
    "Detail: 0.3\n",
    "\n",
    "Explanation:\n",
    "The phrase \"Lyuba paints the fence, forgetting about the worries\" is quite specific in that it names a person (\"Lyuba\") and describes a single action (\"painting the fence\") they are performing. However, the phrase lacks detail in that it does not provide any information about the context of the painting or the nature of the worries that Lyuba is forgetting about. Overall, the phrase is quite specific but lacks detail.\n",
    "\n",
    "----\n",
    "\n",
    "Now give an answer for the phrase \"{phrase}\"\n",
    "\"\"\"\n",
    "\n",
    "    prompt = PromptTemplate(\n",
    "        input_variables=[\"phrase\"],\n",
    "        template=template)\n",
    "    translated_phrase = yandex_translate('en',[phrase])['translations'][0]['text']\n",
    "    text = prompt.format(phrase=translated_phrase)\n",
    "    return (text)"
   ]
  },
  {
   "cell_type": "code",
   "execution_count": 5,
   "id": "a2a0f127",
   "metadata": {},
   "outputs": [
    {
     "name": "stdout",
     "output_type": "stream",
     "text": [
      "\n",
      "Специфичность: 0,6\n",
      "Деталь: 0.4\n",
      "\n",
      "Объяснение:\n",
      "Фраза \"Мы долгое время ждали своей судьбы\" несколько специфична в том смысле, что она описывает конкретную деятельность (\"ожидание\"), выполняемую определенной группой (\"мы\") в течение определенного периода времени (\"долгое время\"). Однако этой фразе не хватает деталей в том смысле, что она не предоставляет никакой информации о личности \"нас\" или характере ожидаемой судьбы. В целом, фраза умеренно конкретна, но в ней не хватает деталей.\n"
     ]
    }
   ],
   "source": [
    "phrase = 'Мы долго ждали своей участи'\n",
    "\n",
    "def make_openai_response(prompt):\n",
    "    llm = OpenAI(temperature=0.5,max_tokens=1024)\n",
    "    open_ai_response = llm(prompt)\n",
    "    return (open_ai_response)\n",
    "\n",
    "open_ai_response = make_openai_response(translate_and_make_prompt(phrase))\n",
    "ya_translate_response = yandex_translate('ru',[open_ai_response])\n",
    "print(ya_translate_response['translations'][0]['text'])"
   ]
  },
  {
   "cell_type": "code",
   "execution_count": 6,
   "id": "b2927184",
   "metadata": {},
   "outputs": [
    {
     "name": "stdout",
     "output_type": "stream",
     "text": [
      "\n",
      "Специфичность: 0,8\n",
      "Детализация: 0.7\n",
      "\n",
      "Объяснение:\n",
      "Фраза \"Временами Джон чувствовал себя ужасно раздраженным из-за того, что тогда он не смог добиться успеха\" довольно специфична в том смысле, что она называет человека (\"Джон\") и описывает конкретную эмоцию (\"раздражение\"), которую он испытывает. Кроме того, в нем приводятся некоторые подробности о контексте эмоции (\"временами\") и источнике эмоции (\"тогда не смог добиться успеха\"). В целом, фраза довольно конкретна и содержит некоторые детали.\n"
     ]
    }
   ],
   "source": [
    "phrase = 'Временами Джон чувствовал жуткую досаду из-за того, что ему не удалось тогда достигнуть успеха'\n",
    "\n",
    "def make_openai_response(prompt):\n",
    "    llm = OpenAI(temperature=0.5,max_tokens=1024)\n",
    "    open_ai_response = llm(prompt)\n",
    "    return (open_ai_response)\n",
    "\n",
    "open_ai_response = make_openai_response(translate_and_make_prompt(phrase))\n",
    "ya_translate_response = yandex_translate('ru',[open_ai_response])\n",
    "print(ya_translate_response['translations'][0]['text'])"
   ]
  },
  {
   "cell_type": "code",
   "execution_count": 7,
   "id": "e5f3bccf",
   "metadata": {},
   "outputs": [
    {
     "name": "stdout",
     "output_type": "stream",
     "text": [
      "\n",
      "Специфичность: 0,9\n",
      "Детализация: 0.7\n",
      "\n",
      "Объяснение:\n",
      "Фраза \"Временами Джон чувствовал себя ужасно раздраженным из-за того, что ему не удалось стать вице-президентом компании в 1987 году\" довольно специфична в том смысле, что в ней назван человек (\"Джон\"), подробно описана определенная эмоция (\"ужасно раздражен\") и описано определенное событие (\"не удалось стал вице-президентом компании в 1987 году\"). Эта фраза также содержит некоторые детали в том смысле, что она указывает, когда произошло событие и интенсивность эмоций Джона. Однако в этой фразе все еще не хватает некоторых деталей, поскольку она не содержит никакой информации о контексте события или причинах, по которым Джону не удалось стать вице-президентом. В целом, фраза довольно конкретна и содержит некоторые детали.\n"
     ]
    }
   ],
   "source": [
    "phrase = 'Временами Джон чувствовал жуткую досаду из-за того, что ему не удалось в 1987 году стать вице-президентом компании'\n",
    "\n",
    "def make_openai_response(prompt):\n",
    "    llm = OpenAI(temperature=0.5,max_tokens=1024)\n",
    "    open_ai_response = llm(prompt)\n",
    "    return (open_ai_response)\n",
    "\n",
    "open_ai_response = make_openai_response(translate_and_make_prompt(phrase))\n",
    "ya_translate_response = yandex_translate('ru',[open_ai_response])\n",
    "print(ya_translate_response['translations'][0]['text'])"
   ]
  },
  {
   "cell_type": "code",
   "execution_count": null,
   "id": "02c37395",
   "metadata": {},
   "outputs": [],
   "source": []
  }
 ],
 "metadata": {
  "kernelspec": {
   "display_name": "Python 3 (ipykernel)",
   "language": "python",
   "name": "python3"
  },
  "language_info": {
   "codemirror_mode": {
    "name": "ipython",
    "version": 3
   },
   "file_extension": ".py",
   "mimetype": "text/x-python",
   "name": "python",
   "nbconvert_exporter": "python",
   "pygments_lexer": "ipython3",
   "version": "3.8.8"
  }
 },
 "nbformat": 4,
 "nbformat_minor": 5
}
